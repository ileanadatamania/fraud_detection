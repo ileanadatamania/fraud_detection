{
 "cells": [
  {
   "cell_type": "code",
   "execution_count": 1,
   "metadata": {},
   "outputs": [
    {
     "name": "stdout",
     "output_type": "stream",
     "text": [
      "\u001b[34mApplications\u001b[m\u001b[m/                   Untitled.ipynb\r\n",
      "\u001b[34mDesktop\u001b[m\u001b[m/                        Untitled1.ipynb\r\n",
      "\u001b[34mDocuments\u001b[m\u001b[m/                      Untitled2.ipynb\r\n",
      "\u001b[34mDownloads\u001b[m\u001b[m/                      Untitled3.ipynb\r\n",
      "Facebook_scraping.ipynb         Untitled4.ipynb\r\n",
      "Facebook_test3.ipynb            Untitled5.ipynb\r\n",
      "Fraud Detection Practice.ipynb  Web Scraping-Copy1.ipynb\r\n",
      "GoogleAPI.ipynb                 Web Scraping.ipynb\r\n",
      "Instagram.ipynb                 face_2test.ipynb\r\n",
      "Interview Practice.ipynb        \u001b[34mileana-git-test\u001b[m\u001b[m/\r\n",
      "\u001b[34mLibrary\u001b[m\u001b[m/                        \u001b[34mjustin_folder\u001b[m\u001b[m/\r\n",
      "\u001b[34mMovies\u001b[m\u001b[m/                         \u001b[34mnltk_data\u001b[m\u001b[m/\r\n",
      "\u001b[34mMusic\u001b[m\u001b[m/                          \u001b[34mprice_analytics\u001b[m\u001b[m/\r\n",
      "\u001b[34mPictures\u001b[m\u001b[m/                       \u001b[34msrc\u001b[m\u001b[m/\r\n",
      "\u001b[34mPublic\u001b[m\u001b[m/                         tweets.txt\r\n",
      "Teradata-import.ipynb           \u001b[34mwebscrape_venv\u001b[m\u001b[m/\r\n"
     ]
    }
   ],
   "source": [
    "ls"
   ]
  },
  {
   "cell_type": "code",
   "execution_count": 2,
   "metadata": {},
   "outputs": [
    {
     "name": "stdout",
     "output_type": "stream",
     "text": [
      "/Users/ileanacabada/Desktop\n"
     ]
    }
   ],
   "source": [
    "cd Desktop/"
   ]
  },
  {
   "cell_type": "code",
   "execution_count": 3,
   "metadata": {},
   "outputs": [
    {
     "name": "stdout",
     "output_type": "stream",
     "text": [
      "\u001b[34m$RECYCLE.BIN\u001b[m\u001b[m/\r\n",
      "CABADA_ILEANASWUFEDISSERTATION.pdf\r\n",
      "CabadaArnoldo_Resume.docx\r\n",
      "CabadaArnoldo_Resume.pdf\r\n",
      "CabadaIleana_resume122019.pdf\r\n",
      "CabadaIleana_resumeAML_2019.pdf\r\n",
      "CabadaIleana_resume_fa.pdf\r\n",
      "Cabada_Modelingsample.pdf\r\n",
      "\u001b[34mData\u001b[m\u001b[m/\r\n",
      "\u001b[34mEqual Opportunity Publications - Stem Registration Confirm Page_files\u001b[m\u001b[m/\r\n",
      "\u001b[34mOld Firefox Data\u001b[m\u001b[m/\r\n",
      "\u001b[34mPeru\u001b[m\u001b[m/\r\n",
      "\u001b[34mProfessional Portfolio\u001b[m\u001b[m/\r\n",
      "Screen Shot 2019-10-14 at 8.38.32 PM.png\r\n",
      "Screen Shot 2019-10-15 at 7.53.12 PM.png\r\n",
      "Screen Shot 2019-10-20 at 10.11.49 PM.png\r\n",
      "Screen Shot 2019-10-20 at 10.20.26 PM.png\r\n",
      "Screen Shot 2019-10-20 at 10.21.25 PM.png\r\n",
      "Screen Shot 2019-10-20 at 10.21.52 PM.png\r\n",
      "Screen Shot 2019-10-20 at 10.26.28 PM.png\r\n",
      "Screen Shot 2019-10-25 at 12.41.23 PM.png\r\n",
      "Screen Shot 2019-11-08 at 10.25.11 AM.png\r\n",
      "Thumbs.db\r\n",
      "\u001b[31mUntitled.pages\u001b[m\u001b[m*\r\n",
      "\u001b[31mamazon.csv\u001b[m\u001b[m*\r\n",
      "\u001b[31mbreweries_us.csv\u001b[m\u001b[m*\r\n",
      "\u001b[34mchapter_1 4\u001b[m\u001b[m/\r\n",
      "creditcard_sampledata.csv\r\n",
      "creditcard_sampledata_3.csv\r\n",
      "\u001b[31mcurriculum english 2019.pages\u001b[m\u001b[m*\r\n",
      "desktop.ini\r\n",
      "\u001b[34mfacepy-1.0.9\u001b[m\u001b[m/\r\n",
      "fall.jpg\r\n",
      "minie.jpg\r\n",
      "\u001b[34mperu face\u001b[m\u001b[m/\r\n",
      "\u001b[34mphotos\u001b[m\u001b[m/\r\n",
      "price_optimization.pdf\r\n",
      "\u001b[34mresume portfolio\u001b[m\u001b[m/\r\n",
      "\u001b[34muntitled folder\u001b[m\u001b[m/\r\n"
     ]
    }
   ],
   "source": [
    "ls"
   ]
  },
  {
   "cell_type": "code",
   "execution_count": 4,
   "metadata": {},
   "outputs": [
    {
     "name": "stdout",
     "output_type": "stream",
     "text": [
      "<class 'pandas.core.frame.DataFrame'>\n",
      "RangeIndex: 8000 entries, 0 to 7999\n",
      "Data columns (total 32 columns):\n",
      "Unnamed: 0    8000 non-null int64\n",
      "Time          8000 non-null int64\n",
      "V1            8000 non-null float64\n",
      "V2            8000 non-null float64\n",
      "V3            8000 non-null float64\n",
      "V4            8000 non-null float64\n",
      "V5            8000 non-null float64\n",
      "V6            8000 non-null float64\n",
      "V7            8000 non-null float64\n",
      "V8            8000 non-null float64\n",
      "V9            8000 non-null float64\n",
      "V10           8000 non-null float64\n",
      "V11           8000 non-null float64\n",
      "V12           8000 non-null float64\n",
      "V13           8000 non-null float64\n",
      "V14           8000 non-null float64\n",
      "V15           8000 non-null float64\n",
      "V16           8000 non-null float64\n",
      "V17           8000 non-null float64\n",
      "V18           8000 non-null float64\n",
      "V19           8000 non-null float64\n",
      "V20           8000 non-null float64\n",
      "V21           8000 non-null float64\n",
      "V22           8000 non-null float64\n",
      "V23           8000 non-null float64\n",
      "V24           8000 non-null float64\n",
      "V25           8000 non-null float64\n",
      "V26           8000 non-null float64\n",
      "V27           8000 non-null float64\n",
      "V28           8000 non-null float64\n",
      "Amount        8000 non-null float64\n",
      "Class         8000 non-null int64\n",
      "dtypes: float64(29), int64(3)\n",
      "memory usage: 2.0 MB\n",
      "None\n",
      "0    7983\n",
      "1      17\n",
      "Name: Class, dtype: int64\n",
      "0    0.997875\n",
      "1    0.002125\n",
      "Name: Class, dtype: float64\n"
     ]
    }
   ],
   "source": [
    "# Import pandas and read csv\n",
    "import pandas as pd\n",
    "import numpy as np\n",
    "import matplotlib.pyplot as plt\n",
    "from sklearn.metrics import confusion_matrix\n",
    "from sklearn.feature_selection import VarianceThreshold\n",
    "\n",
    "df = pd.read_csv(\"creditcard_sampledata.csv\")\n",
    "\n",
    "# Explore the features available in your dataframe\n",
    "print(df.info())\n",
    "\n",
    "# Count the occurrences of fraud and no fraud and print them\n",
    "occ = df['Class'].value_counts()\n",
    "print(occ)\n",
    "\n",
    "# Print the ratio of fraud cases\n",
    "print( occ/ len(df.index))"
   ]
  },
  {
   "cell_type": "code",
   "execution_count": 5,
   "metadata": {},
   "outputs": [
    {
     "data": {
      "text/plain": [
       "Unnamed: 0    0\n",
       "Time          0\n",
       "V1            0\n",
       "V2            0\n",
       "V3            0\n",
       "V4            0\n",
       "V5            0\n",
       "V6            0\n",
       "V7            0\n",
       "V8            0\n",
       "V9            0\n",
       "V10           0\n",
       "V11           0\n",
       "V12           0\n",
       "V13           0\n",
       "V14           0\n",
       "V15           0\n",
       "V16           0\n",
       "V17           0\n",
       "V18           0\n",
       "V19           0\n",
       "V20           0\n",
       "V21           0\n",
       "V22           0\n",
       "V23           0\n",
       "V24           0\n",
       "V25           0\n",
       "V26           0\n",
       "V27           0\n",
       "V28           0\n",
       "Amount        0\n",
       "Class         0\n",
       "dtype: int64"
      ]
     },
     "execution_count": 5,
     "metadata": {},
     "output_type": "execute_result"
    }
   ],
   "source": [
    "df.isnull().values.any()\n",
    "df.isnull().sum()"
   ]
  },
  {
   "cell_type": "markdown",
   "metadata": {},
   "source": [
    "#remeber to normalize your data before applying Variance Threshold\n",
    "def variance_threshold_selector(independent_columns, variance):\n",
    "    selector = VarianceThreshold(threshold=variance)\n",
    "    selector.fit(independent_columns)\n",
    "    return independent_columns[independent_columns.columns[selector.get_support(indices=True)]]"
   ]
  },
  {
   "cell_type": "markdown",
   "metadata": {},
   "source": [
    "a=variance_threshold_selector(df,0.1)"
   ]
  },
  {
   "cell_type": "markdown",
   "metadata": {},
   "source": [
    "a.columns"
   ]
  },
  {
   "cell_type": "markdown",
   "metadata": {},
   "source": [
    "x=variance_threshold_selector(df,0.9)"
   ]
  },
  {
   "cell_type": "code",
   "execution_count": 22,
   "metadata": {},
   "outputs": [],
   "source": [
    "import numpy as np    \n",
    "from sklearn.linear_model import LogisticRegression\n",
    "from sklearn.preprocessing import StandardScaler\n",
    "from sklearn.model_selection import train_test_split\n",
    "from sklearn.metrics import classification_report\n",
    "from sklearn.metrics import accuracy_score\n",
    "import pandas as pd\n",
    "import matplotlib.pyplot as plt\n",
    "\n",
    "x=df.iloc[:,:-1]\n",
    "y= df.iloc[:,-1]\n",
    "\n",
    "#Scale your data prior to your fit thus making the coefficients comparable, and use transform in order to  select the best features\n",
    "\n",
    "def X_scaled_selector(data):\n",
    "    scaler = StandardScaler()\n",
    "    scaler.fit(data)\n",
    "    return pd.DataFrame(scaler.transform(data),columns = data.columns)\n",
    "    #return data[data.columns[scaler.get_support(indices=True)]]"
   ]
  },
  {
   "cell_type": "code",
   "execution_count": 7,
   "metadata": {},
   "outputs": [],
   "source": [
    "X_scaled= X_scaled_selector(x)"
   ]
  },
  {
   "cell_type": "markdown",
   "metadata": {},
   "source": [
    "X_scaled=x"
   ]
  },
  {
   "cell_type": "code",
   "execution_count": 8,
   "metadata": {},
   "outputs": [
    {
     "name": "stderr",
     "output_type": "stream",
     "text": [
      "/anaconda3/lib/python3.6/site-packages/sklearn/model_selection/_split.py:2026: FutureWarning: From version 0.21, test_size will always complement train_size unless both are specified.\n",
      "  FutureWarning)\n"
     ]
    }
   ],
   "source": [
    "clf = LogisticRegression(random_state = 0)\n",
    "X_train, X_test, y_train, y_test = train_test_split(X_scaled, y,  train_size=0.3,random_state=0)"
   ]
  },
  {
   "cell_type": "code",
   "execution_count": 9,
   "metadata": {},
   "outputs": [
    {
     "data": {
      "text/plain": [
       "LogisticRegression(C=1.0, class_weight=None, dual=False, fit_intercept=True,\n",
       "          intercept_scaling=1, max_iter=100, multi_class='ovr', n_jobs=1,\n",
       "          penalty='l2', random_state=0, solver='liblinear', tol=0.0001,\n",
       "          verbose=0, warm_start=False)"
      ]
     },
     "execution_count": 9,
     "metadata": {},
     "output_type": "execute_result"
    }
   ],
   "source": [
    "clf.fit(X_train,y_train)"
   ]
  },
  {
   "cell_type": "code",
   "execution_count": 10,
   "metadata": {},
   "outputs": [],
   "source": [
    "y_predicted= clf.predict(X_test)"
   ]
  },
  {
   "cell_type": "code",
   "execution_count": 20,
   "metadata": {},
   "outputs": [
    {
     "data": {
      "text/plain": [
       "0.9991666666666666"
      ]
     },
     "execution_count": 20,
     "metadata": {},
     "output_type": "execute_result"
    }
   ],
   "source": [
    "clf.score(X_train, y_train) #is the training accuracy"
   ]
  },
  {
   "cell_type": "code",
   "execution_count": 23,
   "metadata": {},
   "outputs": [
    {
     "data": {
      "text/plain": [
       "0.9978571428571429"
      ]
     },
     "execution_count": 23,
     "metadata": {},
     "output_type": "execute_result"
    }
   ],
   "source": [
    "accuracy_score(y_test, y_predicted) #is the testing accuracy."
   ]
  },
  {
   "cell_type": "code",
   "execution_count": 11,
   "metadata": {},
   "outputs": [
    {
     "name": "stdout",
     "output_type": "stream",
     "text": [
      "Classification report:\n",
      "              precision    recall  f1-score   support\n",
      "\n",
      "          0       1.00      1.00      1.00      5586\n",
      "          1       0.75      0.21      0.33        14\n",
      "\n",
      "avg / total       1.00      1.00      1.00      5600\n",
      "\n",
      "Confusion matrix:\n",
      " [[5585    1]\n",
      " [  11    3]]\n"
     ]
    }
   ],
   "source": [
    "#Compare y_test to predictions and obtain performance metrics\n",
    "print('Classification report:\\n', classification_report(y_test, y_predicted))\n",
    "conf_mat = confusion_matrix(y_true=y_test, y_pred=y_predicted)\n",
    "print('Confusion matrix:\\n', conf_mat)"
   ]
  },
  {
   "cell_type": "code",
   "execution_count": 12,
   "metadata": {},
   "outputs": [
    {
     "data": {
      "image/png": "[encoded data removed]",
      "text/plain": [
       "<matplotlib.figure.Figure at 0x10bc6c438>"
      ]
     },
     "metadata": {},
     "output_type": "display_data"
    }
   ],
   "source": [
    "labels = ['Class 0', 'Class 1']\n",
    "fig = plt.figure()\n",
    "ax = fig.add_subplot(111)\n",
    "cax = ax.matshow(conf_mat, cmap=plt.cm.Blues)\n",
    "fig.colorbar(cax)\n",
    "ax.set_xticklabels([''] + labels)\n",
    "ax.set_yticklabels([''] + labels)\n",
    "plt.xlabel('Predicted')\n",
    "plt.ylabel('Expected')\n",
    "plt.show()"
   ]
  },
  {
   "cell_type": "code",
   "execution_count": 13,
   "metadata": {},
   "outputs": [],
   "source": [
    "feature_importance = abs(clf.coef_[0])\n",
    "feature_importance = 100.0 * (feature_importance / feature_importance.max())\n",
    "sorted_idx = np.argsort(feature_importance)\n",
    "pos = np.arange(sorted_idx.shape[0]) + .5"
   ]
  },
  {
   "cell_type": "code",
   "execution_count": 14,
   "metadata": {},
   "outputs": [],
   "source": [
    "columns=np.array(x.columns)[sorted_idx]"
   ]
  },
  {
   "cell_type": "code",
   "execution_count": 15,
   "metadata": {},
   "outputs": [
    {
     "data": {
      "text/plain": [
       "array(['V4', 'V27', 'V21', 'V13', 'Time', 'V10', 'V19', 'V15', 'V22',\n",
       "       'V23', 'Unnamed: 0', 'V25', 'V26', 'V18', 'V24', 'V12', 'V2',\n",
       "       'V28', 'V3', 'V7', 'V6', 'V9', 'V11', 'V17', 'V8', 'V1', 'Amount',\n",
       "       'V20', 'V16', 'V5', 'V14'], dtype=object)"
      ]
     },
     "execution_count": 15,
     "metadata": {},
     "output_type": "execute_result"
    }
   ],
   "source": [
    "columns"
   ]
  },
  {
   "cell_type": "code",
   "execution_count": 16,
   "metadata": {},
   "outputs": [
    {
     "data": {
      "image/png": "[encoded data removed]",
      "text/plain": [
       "<matplotlib.figure.Figure at 0x10bc98550>"
      ]
     },
     "metadata": {},
     "output_type": "display_data"
    }
   ],
   "source": [
    "#Gradient Boosting regression\n",
    "featfig = plt.figure()\n",
    "featax = featfig.add_subplot(1, 1, 1)\n",
    "featax.barh(pos, feature_importance[sorted_idx], align='center')\n",
    "featax.set_yticks(pos)\n",
    "featax.set_yticklabels(np.array(x.columns)[sorted_idx], fontsize=8)\n",
    "featax.set_xlabel('Relative Feature Importance')\n",
    "\n",
    "plt.tight_layout()   \n",
    "plt.show()"
   ]
  }
 ],
 "metadata": {
  "kernelspec": {
   "display_name": "Python 3",
   "language": "python",
   "name": "python3"
  },
  "language_info": {
   "codemirror_mode": {
    "name": "ipython",
    "version": 3
   },
   "file_extension": ".py",
   "mimetype": "text/x-python",
   "name": "python",
   "nbconvert_exporter": "python",
   "pygments_lexer": "ipython3",
   "version": "3.6.4"
  }
 },
 "nbformat": 4,
 "nbformat_minor": 2
}
